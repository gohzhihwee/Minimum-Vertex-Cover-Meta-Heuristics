{
 "cells": [
  {
   "cell_type": "code",
   "execution_count": 1,
   "metadata": {},
   "outputs": [
    {
     "name": "stderr",
     "output_type": "stream",
     "text": [
      "C:\\Users\\gohzh\\Anaconda3\\lib\\site-packages\\pandas\\compat\\_optional.py:138: UserWarning: Pandas requires version '2.7.0' or newer of 'numexpr' (version '2.6.9' currently installed).\n",
      "  warnings.warn(msg, UserWarning)\n"
     ]
    }
   ],
   "source": [
    "import pandas as pd\n",
    "import numpy as np\n",
    "import random\n",
    "import math\n",
    "import gc\n",
    "import matplotlib.pylab as plt\n",
    "import networkx as nx"
   ]
  },
  {
   "cell_type": "code",
   "execution_count": 9,
   "metadata": {},
   "outputs": [
    {
     "data": {
      "text/plain": [
       "array([[0, 0, 0, 0, 0, 0, 0, 0, 0, 0, 0, 0, 0, 0, 0, 0, 0, 0, 0, 0, 0, 0,\n",
       "        0, 0, 0],\n",
       "       [0, 0, 0, 0, 0, 0, 0, 0, 0, 0, 0, 0, 0, 0, 0, 0, 0, 0, 0, 0, 0, 0,\n",
       "        0, 0, 0],\n",
       "       [1, 0, 0, 0, 0, 0, 0, 0, 0, 0, 0, 0, 0, 0, 0, 0, 0, 0, 0, 0, 0, 0,\n",
       "        0, 0, 0],\n",
       "       [0, 0, 1, 0, 0, 0, 0, 0, 0, 0, 0, 0, 0, 0, 0, 0, 0, 0, 0, 0, 0, 0,\n",
       "        0, 0, 0],\n",
       "       [0, 1, 0, 1, 0, 0, 0, 0, 0, 0, 0, 0, 0, 0, 0, 0, 0, 0, 0, 0, 0, 0,\n",
       "        0, 0, 0],\n",
       "       [1, 0, 0, 0, 0, 0, 0, 0, 0, 0, 0, 0, 0, 0, 0, 0, 0, 0, 0, 0, 0, 0,\n",
       "        0, 0, 0],\n",
       "       [0, 0, 0, 0, 0, 0, 0, 0, 0, 0, 0, 0, 0, 0, 0, 0, 0, 0, 0, 0, 0, 0,\n",
       "        0, 0, 0],\n",
       "       [0, 0, 0, 0, 0, 0, 0, 0, 0, 0, 0, 0, 0, 0, 0, 0, 0, 0, 0, 0, 0, 0,\n",
       "        0, 0, 0],\n",
       "       [0, 0, 0, 0, 0, 0, 1, 0, 0, 0, 0, 0, 0, 0, 0, 0, 0, 0, 0, 0, 0, 0,\n",
       "        0, 0, 0],\n",
       "       [0, 0, 0, 0, 0, 0, 1, 0, 0, 0, 0, 0, 0, 0, 0, 0, 0, 0, 0, 0, 0, 0,\n",
       "        0, 0, 0],\n",
       "       [0, 0, 0, 0, 0, 0, 0, 0, 0, 0, 0, 0, 0, 0, 0, 0, 0, 0, 0, 0, 0, 0,\n",
       "        0, 0, 0],\n",
       "       [0, 1, 0, 0, 0, 0, 0, 0, 0, 1, 0, 0, 0, 0, 0, 0, 0, 0, 0, 0, 0, 0,\n",
       "        0, 0, 0],\n",
       "       [0, 0, 1, 0, 1, 0, 0, 0, 0, 0, 0, 0, 0, 0, 0, 0, 0, 0, 0, 0, 0, 0,\n",
       "        0, 0, 0],\n",
       "       [1, 0, 0, 0, 0, 0, 0, 0, 1, 0, 0, 0, 0, 0, 0, 0, 0, 0, 0, 0, 0, 0,\n",
       "        0, 0, 0],\n",
       "       [0, 0, 0, 0, 1, 0, 0, 0, 0, 0, 0, 0, 0, 0, 0, 0, 0, 0, 0, 0, 0, 0,\n",
       "        0, 0, 0],\n",
       "       [0, 0, 0, 0, 0, 0, 0, 1, 0, 0, 0, 0, 0, 0, 0, 0, 0, 0, 0, 0, 0, 0,\n",
       "        0, 0, 0],\n",
       "       [0, 0, 0, 0, 0, 1, 0, 1, 1, 0, 0, 0, 0, 0, 0, 1, 0, 0, 0, 0, 0, 0,\n",
       "        0, 0, 0],\n",
       "       [0, 0, 0, 0, 0, 0, 0, 1, 0, 0, 0, 0, 0, 0, 0, 0, 0, 0, 0, 0, 0, 0,\n",
       "        0, 0, 0],\n",
       "       [0, 0, 0, 0, 0, 0, 0, 0, 0, 0, 0, 0, 1, 0, 0, 0, 0, 0, 0, 0, 0, 0,\n",
       "        0, 0, 0],\n",
       "       [0, 0, 0, 0, 0, 1, 0, 0, 0, 0, 0, 0, 0, 0, 0, 0, 0, 0, 0, 0, 0, 0,\n",
       "        0, 0, 0],\n",
       "       [0, 0, 0, 0, 0, 1, 1, 0, 0, 0, 0, 0, 0, 0, 0, 0, 0, 0, 0, 0, 0, 0,\n",
       "        0, 0, 0],\n",
       "       [0, 0, 0, 0, 0, 0, 0, 0, 0, 0, 0, 0, 0, 0, 0, 1, 0, 0, 0, 0, 0, 0,\n",
       "        0, 0, 0],\n",
       "       [0, 0, 1, 0, 0, 0, 0, 1, 1, 1, 0, 0, 0, 0, 0, 0, 0, 0, 0, 0, 0, 1,\n",
       "        0, 0, 0],\n",
       "       [0, 1, 0, 0, 0, 0, 0, 0, 0, 0, 0, 0, 0, 0, 0, 0, 0, 0, 0, 0, 0, 0,\n",
       "        0, 0, 0],\n",
       "       [0, 0, 1, 0, 0, 0, 0, 1, 0, 0, 0, 1, 0, 0, 0, 0, 0, 0, 0, 0, 0, 0,\n",
       "        0, 0, 0]])"
      ]
     },
     "execution_count": 9,
     "metadata": {},
     "output_type": "execute_result"
    }
   ],
   "source": [
    "nodes = 25\n",
    "edges = []\n",
    "# Initialize adjacency matrix\n",
    "def init_adjacency_matrix(nodes, edges):\n",
    "    adjacency_matrix = np.zeros((nodes,nodes),dtype = np.int)\n",
    "\n",
    "    edge_probability = .0085 if nodes > 100 else 0.09\n",
    "\n",
    "\n",
    "    edges_cnt = 0\n",
    "    for i in range(nodes):\n",
    "        for j in range(i):\n",
    "            prob = random.random()\n",
    "            if prob < edge_probability:\n",
    "                adjacency_matrix[i,j] = 1\n",
    "                edges.append((i,j))\n",
    "                edges_cnt += 1\n",
    "\n",
    "    return adjacency_matrix\n",
    "init_adjacency_matrix(nodes, edges)"
   ]
  },
  {
   "cell_type": "code",
   "execution_count": 10,
   "metadata": {},
   "outputs": [],
   "source": [
    "G=nx.Graph()\n",
    "G.add_nodes_from(list(range(0,nodes)))\n",
    "G.add_edges_from(edges)"
   ]
  },
  {
   "cell_type": "code",
   "execution_count": 11,
   "metadata": {},
   "outputs": [
    {
     "data": {
      "image/png": "[encoded data removed]",
      "text/plain": [
       "<Figure size 864x432 with 1 Axes>"
      ]
     },
     "metadata": {},
     "output_type": "display_data"
    }
   ],
   "source": [
    "plt.figure(figsize=(12,6))\n",
    "nx.draw(G,node_color='r', node_size=18, alpha=0.8)\n",
    "plt.show() # display"
   ]
  },
  {
   "cell_type": "code",
   "execution_count": 5,
   "metadata": {},
   "outputs": [],
   "source": [
    "# Initialize variables and constants\n",
    "num_ants = 10\n",
    "vertex_weights = {node:1 for node in range(nodes)}\n",
    "tau_o = random.random() \n",
    "vertex_phermones = {node:tau_o for node in range(nodes)}\n",
    "vertex_values = {node: vertex_phermones[node]*sum(adjacency_matrix[node]) for node in range(nodes)}\n",
    "solution_set = []\n",
    "q_o = 0.5\n",
    "alpha = 0.1\n",
    "psi = 0.3"
   ]
  },
  {
   "cell_type": "code",
   "execution_count": 6,
   "metadata": {},
   "outputs": [],
   "source": [
    "# Helpers\n",
    "def get_adjacent_vertices(adj_mat,vertex):\n",
    "    vertices = []\n",
    "    for vert in adj_mat[vertex]:\n",
    "        if vert > 0:\n",
    "            vertices.append(vert)\n",
    "            \n",
    "    return vertices\n",
    "\n",
    "def get_arg_max_phermone(vertex_values):\n",
    "    arg_max = []\n",
    "    max_val = -1\n",
    "    for vertex, value in vertex_values.items():\n",
    "        if value > max_val:\n",
    "            max_val = value\n",
    "            arg_max = [vertex]\n",
    "            \n",
    "        elif value == max_val:\n",
    "            arg_max.append(vertex)\n",
    "            \n",
    "    return arg_max"
   ]
  },
  {
   "cell_type": "code",
   "execution_count": 7,
   "metadata": {},
   "outputs": [],
   "source": [
    "def get_psi_k(vertex_i, vertex_j):\n",
    "    return adjacency_matrix[vertex_i][vertex_j]\n",
    "\n",
    "# Eta function\n",
    "def get_eta_k(vertex):\n",
    "    total_edges = sum([get_psi_k(vertex_i,vertex_j) for vertex_i in range(nodes) for vertex_j in range(nodes)])\n",
    "    weight_vertex = vertex_weights[vertex]\n",
    "    return total_edges/weight_vertex\n",
    "\n",
    "# Probability\n",
    "def get_transition_probabilty(vertex, q_o=q_o):\n",
    "    q = random.random()\n",
    "    \n",
    "    if q <=q_o:\n",
    "        tau_j = get_tau_j(vertex)\n",
    "        eta_j_k = (get_eta_k(vertex))**alpha\n",
    "        available_vertices = get_adjacent_vertices(adjacency_matrix,vertex)\n",
    "        denominator = sum([tau_j*get_eta_k(vert) for vert in available_vertices])\n",
    "        return tau_j*eta_j_k / denominator\n",
    "    \n",
    "    arg_max = get_arg_max_phermone(vertex_values)\n",
    "    \n",
    "    if vertex in arg_max:\n",
    "        return 1\n",
    "    return 0\n",
    "        \n",
    "\n",
    "# Local update rule\n",
    "def get_local_tau_j(vertex_j):\n",
    "    return (1-psi)*vertex_phermones[vertex_j] + psi*tau_o\n",
    "    \n",
    "# Global update rule \n",
    "def get_delta_tau_j():\n",
    "    return 1/(sum(vertex_weights(vertex_j) for vertex_j in solution_set))\n",
    "    \n",
    "def get_tau_j(vertex_i):\n",
    "    delta_tau= get_delta_tau_j()\n",
    "    tau_j=(1-get_transition_probabilty(vertex_i))*tau_j+delta_tau\n",
    "    return tau_j\n",
    "\n",
    "def all_ants_finished():\n",
    "    delta_tau = get_delta_tau_j()\n",
    "    if delta_tau == 1/len(vertices):\n",
    "        print(\"All Ants Finished\")\n",
    "        return True\n",
    "    return False"
   ]
  },
  {
   "cell_type": "code",
   "execution_count": null,
   "metadata": {},
   "outputs": [],
   "source": [
    "def OptCover(startindex, Connections, Covered, Sum):\n",
    "    if startindex >= SizeofGraph:\n",
    "        return\n",
    "    if Sum > BestValue:\n",
    "        return\n",
    "    if Covered == SizeofGraph:\n",
    "        if Sum < BestValue:\n",
    "            BestValue = Sum\n",
    "            return\n",
    "def ACO():\n",
    "    #Reset adjacency matrix and graph info\n",
    "    edges = []\n",
    "    adj_mat = init_adjacency_matrix(nodes, edges)\n",
    "    G=nx.Graph()\n",
    "    G.add_nodes_from(list(range(0,nodes)))\n",
    "    G.add_edges_from(edges)\n",
    "    vertices_copy = vertices\n",
    "    count = 0\n",
    "    #lines 19-38 need to be iterated\n",
    "    if_finished = all_ants_finished()\n",
    "    if not if_finished:\n",
    "        while count != 1:\n",
    "            for b in vertices_copy:\n",
    "                if not (b in vertices):\n",
    "                    vertex = b\n",
    "                    solution_set.append(b)\n",
    "                else:\n",
    "                    if len(solution_set) >= len(vertices):\n",
    "                        vertex = b\n",
    "                        break\n",
    "                    else:\n",
    "                        continue\n",
    "            get_adjacent_vertices(adj_mat, vertex)\n",
    "            count += 1\n",
    "    prob = get_transition_probabilty(vertex, q_o=q_o)\n",
    "    get_local_tau_j(vertex)\n",
    "    get_delta_tau_j()\n",
    "    if_finished = all_ants_finished()\n",
    "    "
   ]
  }
 ],
 "metadata": {
  "kernelspec": {
   "display_name": "Python 3",
   "language": "python",
   "name": "python3"
  },
  "language_info": {
   "codemirror_mode": {
    "name": "ipython",
    "version": 3
   },
   "file_extension": ".py",
   "mimetype": "text/x-python",
   "name": "python",
   "nbconvert_exporter": "python",
   "pygments_lexer": "ipython3",
   "version": "3.7.3"
  }
 },
 "nbformat": 4,
 "nbformat_minor": 2
}
